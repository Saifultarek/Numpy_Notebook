{
  "nbformat": 4,
  "nbformat_minor": 0,
  "metadata": {
    "colab": {
      "provenance": []
    },
    "kernelspec": {
      "name": "python3",
      "display_name": "Python 3"
    },
    "language_info": {
      "name": "python"
    }
  },
  "cells": [
    {
      "cell_type": "code",
      "execution_count": null,
      "metadata": {
        "id": "uqPHO60Ulwq2"
      },
      "outputs": [],
      "source": []
    },
    {
      "cell_type": "markdown",
      "source": [
        "#Part:1 - Arrays\n",
        "As a fundamental package for scientific computing, NumPy provides the foundations of mathematical, scientific, engineering and data science programming within the Python Echo-system. NumPy’s main object is the homogeneous multidimensional array(NumPy is used for working with arrays)\n",
        "#NumPY stands for? Ans: Numerical Python\n",
        "#Numpy developed by? Ans: Travis Oliphant\n",
        "\n",
        "# ***Numpy Arrays***\n",
        "arange(), linspace(), zeros(), ones(), eye(), rand(), randn(), randint()\n",
        "#Methods:\n",
        " reshape(), max(), min(), argmax(), argmin()\n",
        "Attributes: size, shape, dtype\n",
        "#Indexing & slicing of 1-D arrays (vectors)\n",
        "#Indexing & slicing 2-D arrays (matrices)\n"
      ],
      "metadata": {
        "id": "NFxeykifl_j7"
      }
    },
    {
      "cell_type": "code",
      "source": [
        "# Let import NumPy\n",
        "import numpy as np"
      ],
      "metadata": {
        "id": "KAj5oqpxl-sn"
      },
      "execution_count": 1,
      "outputs": []
    },
    {
      "cell_type": "markdown",
      "source": [
        "# **Numpy Arrays**\n",
        "**Vectors**: Vectors are strictly 1-dimensional array.\n",
        "\n",
        "**Matrices**: Matrices are 2-dimensional (matrix can still have only one row or one column)."
      ],
      "metadata": {
        "id": "pgNRgcRJqyJh"
      }
    },
    {
      "cell_type": "markdown",
      "source": [
        "# Creating NumPy Arrays"
      ],
      "metadata": {
        "id": "s0BVwNaurj7q"
      }
    },
    {
      "cell_type": "markdown",
      "source": [
        "\n",
        "## From Python data type (e.g. List, Tuple)"
      ],
      "metadata": {
        "id": "bUDf9jGvrruZ"
      }
    },
    {
      "cell_type": "code",
      "source": [
        "#Lets create a python list.\n",
        "my_list =[-1,0,1]\n",
        "my_list"
      ],
      "metadata": {
        "colab": {
          "base_uri": "https://localhost:8080/"
        },
        "id": "CHrPGAKnl-8H",
        "outputId": "5c343d78-ed5f-4e4f-9286-bd5a9eba0b88"
      },
      "execution_count": 3,
      "outputs": [
        {
          "output_type": "execute_result",
          "data": {
            "text/plain": [
              "[-1, 0, 1]"
            ]
          },
          "metadata": {},
          "execution_count": 3
        }
      ]
    },
    {
      "cell_type": "markdown",
      "source": [
        "To create a NumPy array, from a Python data structure, we use NumPy's array function.\n",
        "The NumPy's array function can be accessed by typing \"np.array\".\n",
        "We need to cast our Python data structure, my_list, as a parameter to the array function."
      ],
      "metadata": {
        "id": "3GYAtc2ut0nf"
      }
    },
    {
      "cell_type": "code",
      "source": [
        "my_array = np.array(my_list)\n",
        "my_array\n"
      ],
      "metadata": {
        "colab": {
          "base_uri": "https://localhost:8080/"
        },
        "id": "pBrAxqGKl-9u",
        "outputId": "3ec3dd3d-9c02-4061-c715-85a10020a08f"
      },
      "execution_count": 8,
      "outputs": [
        {
          "output_type": "execute_result",
          "data": {
            "text/plain": [
              "array([-1,  0,  1])"
            ]
          },
          "metadata": {},
          "execution_count": 8
        }
      ]
    },
    {
      "cell_type": "code",
      "source": [
        "type(my_array) # type function used to find parameter type."
      ],
      "metadata": {
        "colab": {
          "base_uri": "https://localhost:8080/"
        },
        "id": "RRKb1hyEuWLS",
        "outputId": "9bc3a2c2-1ef4-4337-c5ea-13786a00fe09"
      },
      "execution_count": 9,
      "outputs": [
        {
          "output_type": "execute_result",
          "data": {
            "text/plain": [
              "numpy.ndarray"
            ]
          },
          "metadata": {},
          "execution_count": 9
        }
      ]
    },
    {
      "cell_type": "code",
      "source": [
        "np.ndim(my_array) #check dimension using ndim"
      ],
      "metadata": {
        "colab": {
          "base_uri": "https://localhost:8080/"
        },
        "id": "dojUqF33wlwc",
        "outputId": "e59e1c28-928a-4ef1-a2c0-e93c59c73110"
      },
      "execution_count": 21,
      "outputs": [
        {
          "output_type": "execute_result",
          "data": {
            "text/plain": [
              "1"
            ]
          },
          "metadata": {},
          "execution_count": 21
        }
      ]
    },
    {
      "cell_type": "markdown",
      "source": [
        "Matrices  "
      ],
      "metadata": {
        "id": "OXiPMlkIwswT"
      }
    },
    {
      "cell_type": "code",
      "source": [
        "#Lets create and cast a list of list to generate 2-D array\n",
        "my_matrix =[[1,2,3],[4,5,6],[7,8,9],[4,5,9]]\n",
        "my_matrix"
      ],
      "metadata": {
        "colab": {
          "base_uri": "https://localhost:8080/"
        },
        "id": "SBgRsvzluWM5",
        "outputId": "c5a184eb-ebb2-41c6-ca08-ef12bdcbff1f"
      },
      "execution_count": 11,
      "outputs": [
        {
          "output_type": "execute_result",
          "data": {
            "text/plain": [
              "[[1, 2, 3], [4, 5, 6], [7, 8, 9], [4, 5, 9]]"
            ]
          },
          "metadata": {},
          "execution_count": 11
        }
      ]
    },
    {
      "cell_type": "code",
      "source": [
        "type(my_matrix)\n"
      ],
      "metadata": {
        "colab": {
          "base_uri": "https://localhost:8080/"
        },
        "id": "bzHafdKvuWTL",
        "outputId": "c836704e-d32b-4822-95a1-e1bbb9cffe2e"
      },
      "execution_count": 23,
      "outputs": [
        {
          "output_type": "execute_result",
          "data": {
            "text/plain": [
              "list"
            ]
          },
          "metadata": {},
          "execution_count": 23
        }
      ]
    },
    {
      "cell_type": "code",
      "source": [
        "matrix_one = np.array(my_matrix)\n",
        "matrix_one"
      ],
      "metadata": {
        "colab": {
          "base_uri": "https://localhost:8080/"
        },
        "id": "CufbetBfuWUx",
        "outputId": "57a9db19-051e-4baa-de48-cd39317b3662"
      },
      "execution_count": 15,
      "outputs": [
        {
          "output_type": "execute_result",
          "data": {
            "text/plain": [
              "array([[1, 2, 3],\n",
              "       [4, 5, 6],\n",
              "       [7, 8, 9],\n",
              "       [4, 5, 9]])"
            ]
          },
          "metadata": {},
          "execution_count": 15
        }
      ]
    },
    {
      "cell_type": "code",
      "source": [
        "type(matrix_one)"
      ],
      "metadata": {
        "colab": {
          "base_uri": "https://localhost:8080/"
        },
        "id": "6_hJhVrywDJe",
        "outputId": "3e07c58e-f5fb-4629-93ef-5a3d63857c3f"
      },
      "execution_count": 16,
      "outputs": [
        {
          "output_type": "execute_result",
          "data": {
            "text/plain": [
              "numpy.ndarray"
            ]
          },
          "metadata": {},
          "execution_count": 16
        }
      ]
    },
    {
      "cell_type": "code",
      "source": [
        "np.ndim(matrix_one) #check dimension using ndim"
      ],
      "metadata": {
        "colab": {
          "base_uri": "https://localhost:8080/"
        },
        "id": "B9ZuiUhGwDYz",
        "outputId": "84d05895-dbd5-4711-fdba-b5b84af426c1"
      },
      "execution_count": 19,
      "outputs": [
        {
          "output_type": "execute_result",
          "data": {
            "text/plain": [
              "2"
            ]
          },
          "metadata": {},
          "execution_count": 19
        }
      ]
    },
    {
      "cell_type": "markdown",
      "source": [
        "# Tuple"
      ],
      "metadata": {
        "id": "tJzpJm4WxmJL"
      }
    },
    {
      "cell_type": "code",
      "source": [
        "#we can use Tuple instead of list as well.\n",
        "my_tuple =(-1,0,1)\n",
        "my_tuple"
      ],
      "metadata": {
        "colab": {
          "base_uri": "https://localhost:8080/"
        },
        "id": "zGE5gViAwDaY",
        "outputId": "d6d2f31f-2b55-4b84-bfd4-3634899d456d"
      },
      "execution_count": 24,
      "outputs": [
        {
          "output_type": "execute_result",
          "data": {
            "text/plain": [
              "(-1, 0, 1)"
            ]
          },
          "metadata": {},
          "execution_count": 24
        }
      ]
    },
    {
      "cell_type": "code",
      "source": [
        "type(my_tuple) #check type"
      ],
      "metadata": {
        "colab": {
          "base_uri": "https://localhost:8080/"
        },
        "id": "zye62d9lwDfz",
        "outputId": "ba904312-3a3a-4a0c-b3a8-840e6058dc43"
      },
      "execution_count": 25,
      "outputs": [
        {
          "output_type": "execute_result",
          "data": {
            "text/plain": [
              "tuple"
            ]
          },
          "metadata": {},
          "execution_count": 25
        }
      ]
    },
    {
      "cell_type": "code",
      "source": [
        "#convert tuple as a array\n",
        "my_array = np.array(my_tuple)\n",
        "my_array ,type(my_array)"
      ],
      "metadata": {
        "colab": {
          "base_uri": "https://localhost:8080/"
        },
        "id": "wxIQf1WSwDhY",
        "outputId": "12c78c6f-c505-4aeb-cccd-0d73c82d4b34"
      },
      "execution_count": 28,
      "outputs": [
        {
          "output_type": "execute_result",
          "data": {
            "text/plain": [
              "(array([-1,  0,  1]), numpy.ndarray)"
            ]
          },
          "metadata": {},
          "execution_count": 28
        }
      ]
    },
    {
      "cell_type": "markdown",
      "source": [
        "## Array creation using NumPy's Built-in methods"
      ],
      "metadata": {
        "id": "4FZw8YT5zaew"
      }
    },
    {
      "cell_type": "markdown",
      "source": [
        "# arange()\n",
        " * arange() is very much similar to Python function range()\n",
        "\n",
        " *   Syntax: arange([start,] stop[,\n",
        "  step,], dtype=None)\n",
        " *   Return evenly spaced values within a given interval.\n",
        "\n",
        "\n",
        "\n",
        "\n"
      ],
      "metadata": {
        "id": "Jrm-h5VPzoPk"
      }
    },
    {
      "cell_type": "code",
      "source": [],
      "metadata": {
        "id": "-dY0QeynwDro"
      },
      "execution_count": null,
      "outputs": []
    }
  ]
}